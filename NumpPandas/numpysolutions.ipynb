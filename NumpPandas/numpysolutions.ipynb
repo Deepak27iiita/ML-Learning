{
 "cells": [
  {
   "cell_type": "markdown",
   "metadata": {},
   "source": [
    "# Module: NumPy Assignments\n",
    "## Lesson: NumPy\n",
    "### Assignment 1: Array Creation and Manipulation\n",
    "\n",
    "1. Create a NumPy array of shape (5, 5) filled with random integers between 1 and 20. Replace all the elements in the third column with 1."
   ]
  },
  {
   "cell_type": "code",
   "execution_count": 8,
   "metadata": {},
   "outputs": [
    {
     "name": "stdout",
     "output_type": "stream",
     "text": [
      "[[ 6  3  8  1  8]\n",
      " [15 10  7 16 15]\n",
      " [ 2 16  3 17  4]\n",
      " [ 9 20 13 19  3]\n",
      " [19  6  7 12  5]]\n",
      "[[ 6  3  8  1  8]\n",
      " [15 10  7  1 15]\n",
      " [ 2 16  3  1  4]\n",
      " [ 9 20 13  1  3]\n",
      " [19  6  7  1  5]]\n"
     ]
    }
   ],
   "source": [
    "import numpy as np \n",
    "arr = np.random.randint(1,21,size=(5,5))\n",
    "print(arr)\n",
    "arr[::,3]=1\n",
    "print(arr)"
   ]
  },
  {
   "cell_type": "markdown",
   "metadata": {},
   "source": [
    "2. Create a NumPy array of shape (4, 4) with values from 1 to 16. Replace the diagonal elements with 0."
   ]
  },
  {
   "cell_type": "code",
   "execution_count": null,
   "metadata": {},
   "outputs": [
    {
     "name": "stdout",
     "output_type": "stream",
     "text": [
      "[[ 8 14  4  1]\n",
      " [ 9  8 11  1]\n",
      " [ 1 14 11  4]\n",
      " [13  5  9 13]]\n",
      "[[ 0 14  4  1]\n",
      " [ 9  0 11  1]\n",
      " [ 1 14  0  4]\n",
      " [13  5  9  0]]\n"
     ]
    }
   ],
   "source": [
    "import numpy as np\n",
    "arr = np.random.randint(1,16,size=(4,4))\n",
    "print(arr)\n",
    "for i in range(0,len(arr)):\n",
    "  for j in range(arr.shape[1]):\n",
    "    if i==j:\n",
    "      arr[i][j]=0\n",
    "print(arr)\n",
    "\n",
    "np.fill_diagonal(arr, 0) "
   ]
  },
  {
   "cell_type": "markdown",
   "metadata": {},
   "source": [
    "### Assignment 2: Array Indexing and Slicing\n",
    "\n",
    "1. Create a NumPy array of shape (6, 6) with values from 1 to 36. Extract the sub-array consisting of the 3rd to 5th rows and 2nd to 4th columns."
   ]
  },
  {
   "cell_type": "code",
   "execution_count": 34,
   "metadata": {},
   "outputs": [
    {
     "name": "stdout",
     "output_type": "stream",
     "text": [
      "[[25 20 13  6 25  2]\n",
      " [21 15  8 32 24  3]\n",
      " [27 10 11 28 34 34]\n",
      " [ 6 30 20 34 19 20]\n",
      " [28 12 21 13 30  7]\n",
      " [12 14 16  3 35 18]]\n",
      "[[ 0 20 13  6 25  0]\n",
      " [21 15  8 32  0  3]\n",
      " [27 10 11  0 34 34]\n",
      " [ 6 30  0 34 19 20]\n",
      " [28  0 21 13 30  7]\n",
      " [ 0 14 16  3 35  0]]\n"
     ]
    }
   ],
   "source": [
    "import numpy as np \n",
    "arr = np.random.randint(1,36,size=(6,6))\n",
    "print(arr)\n",
    "arr.flat[::5]=0\n",
    "print(arr)\n"
   ]
  },
  {
   "cell_type": "markdown",
   "metadata": {},
   "source": [
    "2. Create a NumPy array of shape (5, 5) with random integers. Extract the elements on the border."
   ]
  },
  {
   "cell_type": "code",
   "execution_count": 18,
   "metadata": {},
   "outputs": [
    {
     "name": "stdout",
     "output_type": "stream",
     "text": [
      "[[17 39 12  8 38]\n",
      " [ 4  1 49  2 40]\n",
      " [41 41 32 38 48]\n",
      " [25 36 10  4 36]\n",
      " [ 3 36 44 43  7]]\n"
     ]
    },
    {
     "data": {
      "text/plain": [
       "array([17, 39, 12,  8, 38,  4, 41, 25,  3], dtype=int32)"
      ]
     },
     "execution_count": 18,
     "metadata": {},
     "output_type": "execute_result"
    }
   ],
   "source": [
    "import numpy as np \n",
    "arr= np.random.randint(1,50,size=(5,5))\n",
    "print(arr)\n",
    "rows ,cols = np.indices(arr.shape)\n",
    "data = arr[(rows==0)|(cols==0)]\n",
    "data"
   ]
  },
  {
   "cell_type": "markdown",
   "metadata": {},
   "source": [
    "### Assignment 3: Array Operations\n",
    "\n",
    "1. Create two NumPy arrays of shape (3, 4) filled with random integers. Perform element-wise addition, subtraction, multiplication, and division."
   ]
  },
  {
   "cell_type": "code",
   "execution_count": 20,
   "metadata": {},
   "outputs": [
    {
     "name": "stdout",
     "output_type": "stream",
     "text": [
      "[[5 7 4 3]\n",
      " [6 5 6 6]\n",
      " [5 4 1 9]]\n",
      "[[8 1 4 8]\n",
      " [6 8 5 7]\n",
      " [8 6 8 6]]\n",
      "[[13  8  8 11]\n",
      " [12 13 11 13]\n",
      " [13 10  9 15]]\n",
      "[[-3  6  0 -5]\n",
      " [ 0 -3  1 -1]\n",
      " [-3 -2 -7  3]]\n",
      "[[40  7 16 24]\n",
      " [36 40 30 42]\n",
      " [40 24  8 54]]\n",
      "[[0.625      7.         1.         0.375     ]\n",
      " [1.         0.625      1.2        0.85714286]\n",
      " [0.625      0.66666667 0.125      1.5       ]]\n"
     ]
    }
   ],
   "source": [
    "arr1 = np.random.randint(1,10,size=(3,4))\n",
    "arr2 = np.random.randint(1,10,size=(3,4))\n",
    "print(arr1)\n",
    "print(arr2)\n",
    "print(arr1+arr2)\n",
    "print(arr1-arr2)\n",
    "print(arr1*arr2)\n",
    "print(arr1/arr2)\n"
   ]
  },
  {
   "cell_type": "markdown",
   "metadata": {},
   "source": [
    "2. Create a NumPy array of shape (4, 4) with values from 1 to 16. Compute the row-wise and column-wise sum."
   ]
  },
  {
   "cell_type": "code",
   "execution_count": 22,
   "metadata": {},
   "outputs": [
    {
     "name": "stdout",
     "output_type": "stream",
     "text": [
      "[[ 8 11  4  1]\n",
      " [13  1 10  3]\n",
      " [15  3  6 13]\n",
      " [11  8  4  6]]\n",
      "Row sums: [24 27 37 29]\n",
      "Column sums: [47 23 24 23]\n"
     ]
    }
   ],
   "source": [
    "arr = np.random.randint(1,16,size= (4,4))\n",
    "print(arr)\n",
    "\n",
    "rowSum = np.sum(arr, axis=1)\n",
    "colSum = np.sum(arr, axis=0)\n",
    "print(\"Row sums:\", rowSum)\n",
    "print(\"Column sums:\", colSum)"
   ]
  },
  {
   "cell_type": "markdown",
   "metadata": {},
   "source": [
    "### Assignment 4: Statistical Operations\n",
    "\n",
    "1. Create a NumPy array of shape (5, 5) filled with random integers. Compute the mean, median, standard deviation, and variance of the array."
   ]
  },
  {
   "cell_type": "code",
   "execution_count": 25,
   "metadata": {},
   "outputs": [
    {
     "name": "stdout",
     "output_type": "stream",
     "text": [
      "11.6\n",
      "[16.   9.2 14.2  7.6 11. ]\n",
      "[ 7.4 15.4 11.4 10.6 13.2]\n",
      "13.0\n",
      "[15.  9. 13.  8. 15.]\n",
      "[ 9. 17. 10. 11. 15.]\n",
      "5.642694391866354\n",
      "[2.52982213 5.38144962 4.11825206 3.72021505 6.69328021]\n",
      "[5.42586399 4.45421149 4.02988834 3.72021505 6.64529909]\n",
      "31.84\n",
      "[ 6.4  28.96 16.96 13.84 44.8 ]\n",
      "[29.44 19.84 16.24 13.84 44.16]\n"
     ]
    }
   ],
   "source": [
    "arr=np.random.randint(1,21,size=(5,5))\n",
    "print(np.mean(arr))  # mean of all elements\n",
    "print(np.mean(arr, axis=0))  # mean of each column\n",
    "print(np.mean(arr, axis=1))  # mean of each row\n",
    "print(np.median(arr))  # median of all elements\n",
    "print(np.median(arr, axis=0))  # median of each column\n",
    "print(np.median(arr, axis=1))  # median of each row\n",
    "print(np.std(arr))  # standard deviation of all elements\n",
    "print(np.std(arr, axis=0))  # standard deviation of each column\n",
    "print(np.std(arr, axis=1))  # standard deviation of each row\n",
    "print(np.var(arr))  # variance of all elements\n",
    "print(np.var(arr, axis=0))  # variance of each column\n",
    "print(np.var(arr, axis=1))  # variance of each row"
   ]
  },
  {
   "cell_type": "markdown",
   "metadata": {},
   "source": [
    "2. Create a NumPy array of shape (3, 3) with values from 1 to 9. Normalize the array (i.e., scale the values to have a mean of 0 and a standard deviation of 1)."
   ]
  },
  {
   "cell_type": "code",
   "execution_count": null,
   "metadata": {},
   "outputs": [],
   "source": []
  },
  {
   "cell_type": "markdown",
   "metadata": {},
   "source": [
    "### Assignment 5: Broadcasting\n",
    "\n",
    "1. Create a NumPy array of shape (3, 3) filled with random integers. Add a 1D array of shape (3,) to each row of the 2D array using broadcasting."
   ]
  },
  {
   "cell_type": "code",
   "execution_count": null,
   "metadata": {},
   "outputs": [],
   "source": []
  },
  {
   "cell_type": "markdown",
   "metadata": {},
   "source": [
    "2. Create a NumPy array of shape (4, 4) filled with random integers. Subtract a 1D array of shape (4,) from each column of the 2D array using broadcasting."
   ]
  },
  {
   "cell_type": "code",
   "execution_count": null,
   "metadata": {},
   "outputs": [],
   "source": []
  },
  {
   "cell_type": "markdown",
   "metadata": {},
   "source": [
    "### Assignment 6: Linear Algebra\n",
    "\n",
    "1. Create a NumPy array of shape (3, 3) representing a matrix. Compute its determinant, inverse, and eigenvalues."
   ]
  },
  {
   "cell_type": "code",
   "execution_count": null,
   "metadata": {},
   "outputs": [],
   "source": []
  },
  {
   "cell_type": "markdown",
   "metadata": {},
   "source": [
    "2. Create two NumPy arrays of shape (2, 3) and (3, 2). Perform matrix multiplication on these arrays."
   ]
  },
  {
   "cell_type": "code",
   "execution_count": null,
   "metadata": {},
   "outputs": [],
   "source": []
  },
  {
   "cell_type": "markdown",
   "metadata": {},
   "source": [
    "### Assignment 7: Advanced Array Manipulation\n",
    "\n",
    "1. Create a NumPy array of shape (3, 3) with values from 1 to 9. Reshape the array to shape (1, 9) and then to shape (9, 1)."
   ]
  },
  {
   "cell_type": "code",
   "execution_count": null,
   "metadata": {},
   "outputs": [],
   "source": []
  },
  {
   "cell_type": "markdown",
   "metadata": {},
   "source": [
    "2. Create a NumPy array of shape (5, 5) filled with random integers. Flatten the array and then reshape it back to (5, 5)."
   ]
  },
  {
   "cell_type": "code",
   "execution_count": null,
   "metadata": {},
   "outputs": [],
   "source": []
  },
  {
   "cell_type": "markdown",
   "metadata": {},
   "source": [
    "### Assignment 8: Fancy Indexing and Boolean Indexing\n",
    "\n",
    "1. Create a NumPy array of shape (5, 5) filled with random integers. Use fancy indexing to extract the elements at the corners of the array."
   ]
  },
  {
   "cell_type": "code",
   "execution_count": null,
   "metadata": {},
   "outputs": [],
   "source": []
  },
  {
   "cell_type": "markdown",
   "metadata": {},
   "source": [
    "2. Create a NumPy array of shape (4, 4) filled with random integers. Use boolean indexing to set all elements greater than 10 to 10."
   ]
  },
  {
   "cell_type": "code",
   "execution_count": null,
   "metadata": {},
   "outputs": [],
   "source": []
  },
  {
   "cell_type": "markdown",
   "metadata": {},
   "source": [
    "### Assignment 9: Structured Arrays\n",
    "\n",
    "1. Create a structured array with fields 'name' (string), 'age' (integer), and 'weight' (float). Add some data and sort the array by age."
   ]
  },
  {
   "cell_type": "code",
   "execution_count": null,
   "metadata": {},
   "outputs": [],
   "source": []
  },
  {
   "cell_type": "markdown",
   "metadata": {},
   "source": [
    "2. Create a structured array with fields 'x' and 'y' (both integers). Add some data and compute the Euclidean distance between each pair of points."
   ]
  },
  {
   "cell_type": "code",
   "execution_count": null,
   "metadata": {},
   "outputs": [],
   "source": []
  },
  {
   "cell_type": "markdown",
   "metadata": {},
   "source": [
    "### Assignment 10: Masked Arrays\n",
    "\n",
    "1. Create a masked array of shape (4, 4) with random integers and mask the elements greater than 10. Compute the sum of the unmasked elements."
   ]
  },
  {
   "cell_type": "code",
   "execution_count": null,
   "metadata": {},
   "outputs": [],
   "source": []
  },
  {
   "cell_type": "markdown",
   "metadata": {},
   "source": [
    "2. Create a masked array of shape (3, 3) with random integers and mask the diagonal elements. Replace the masked elements with the mean of the unmasked elements."
   ]
  },
  {
   "cell_type": "code",
   "execution_count": null,
   "metadata": {},
   "outputs": [],
   "source": []
  }
 ],
 "metadata": {
  "kernelspec": {
   "display_name": "base",
   "language": "python",
   "name": "python3"
  },
  "language_info": {
   "codemirror_mode": {
    "name": "ipython",
    "version": 3
   },
   "file_extension": ".py",
   "mimetype": "text/x-python",
   "name": "python",
   "nbconvert_exporter": "python",
   "pygments_lexer": "ipython3",
   "version": "3.13.5"
  }
 },
 "nbformat": 4,
 "nbformat_minor": 5
}
