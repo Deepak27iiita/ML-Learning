{
 "cells": [
  {
   "cell_type": "code",
   "execution_count": 1,
   "id": "810f32d3",
   "metadata": {},
   "outputs": [
    {
     "name": "stdout",
     "output_type": "stream",
     "text": [
      "Requirement already satisfied: numpy in c:\\users\\victus\\anaconda3\\lib\\site-packages (2.1.3)\n"
     ]
    }
   ],
   "source": [
    "# numpy learning\n",
    "!pip install numpy "
   ]
  },
  {
   "cell_type": "code",
   "execution_count": 2,
   "id": "717040d9",
   "metadata": {},
   "outputs": [],
   "source": [
    "import numpy as np "
   ]
  },
  {
   "cell_type": "code",
   "execution_count": 3,
   "id": "58e176e1",
   "metadata": {},
   "outputs": [
    {
     "name": "stdout",
     "output_type": "stream",
     "text": [
      "[ 1  2  3  4  4  5  6 88 56]\n"
     ]
    }
   ],
   "source": [
    "arr1 = np.array([1,2,3,4,4,5,6,88,56])\n",
    "print(arr1)"
   ]
  },
  {
   "cell_type": "code",
   "execution_count": 4,
   "id": "d2028c58",
   "metadata": {},
   "outputs": [
    {
     "name": "stdout",
     "output_type": "stream",
     "text": [
      "[[ 1  2  3]\n",
      " [ 4  4  5]\n",
      " [ 6 88 56]]\n"
     ]
    }
   ],
   "source": [
    "arr = arr1.reshape(3,3)\n",
    "print(arr)"
   ]
  },
  {
   "cell_type": "code",
   "execution_count": 5,
   "id": "184681c6",
   "metadata": {},
   "outputs": [],
   "source": [
    "arr2 = arr1[arr1%2==0]"
   ]
  },
  {
   "cell_type": "code",
   "execution_count": 6,
   "id": "34ce7605",
   "metadata": {},
   "outputs": [
    {
     "data": {
      "text/plain": [
       "array([ 2,  4,  4,  6, 88, 56])"
      ]
     },
     "execution_count": 6,
     "metadata": {},
     "output_type": "execute_result"
    }
   ],
   "source": [
    "arr2"
   ]
  },
  {
   "cell_type": "code",
   "execution_count": 15,
   "id": "7c59191d",
   "metadata": {},
   "outputs": [
    {
     "data": {
      "text/plain": [
       "array([[1],\n",
       "       [3],\n",
       "       [5],\n",
       "       [7],\n",
       "       [9]])"
      ]
     },
     "execution_count": 15,
     "metadata": {},
     "output_type": "execute_result"
    }
   ],
   "source": [
    "np.arange(1,10,2).reshape(5,1)"
   ]
  },
  {
   "cell_type": "code",
   "execution_count": 20,
   "id": "34464e1a",
   "metadata": {},
   "outputs": [
    {
     "data": {
      "text/plain": [
       "array([[1, 2, 3],\n",
       "       [4, 5, 6],\n",
       "       [7, 8, 9]])"
      ]
     },
     "execution_count": 20,
     "metadata": {},
     "output_type": "execute_result"
    }
   ],
   "source": [
    "np.arange(1,10,1).reshape(3,3)"
   ]
  },
  {
   "cell_type": "code",
   "execution_count": 21,
   "id": "68ef02d5",
   "metadata": {},
   "outputs": [
    {
     "data": {
      "text/plain": [
       "array([[1., 1., 1.],\n",
       "       [1., 1., 1.],\n",
       "       [1., 1., 1.]])"
      ]
     },
     "execution_count": 21,
     "metadata": {},
     "output_type": "execute_result"
    }
   ],
   "source": [
    "np.ones((3,3))"
   ]
  },
  {
   "cell_type": "code",
   "execution_count": 22,
   "id": "832620eb",
   "metadata": {},
   "outputs": [
    {
     "data": {
      "text/plain": [
       "array([[1., 0., 0., 0.],\n",
       "       [0., 1., 0., 0.],\n",
       "       [0., 0., 1., 0.],\n",
       "       [0., 0., 0., 1.]])"
      ]
     },
     "execution_count": 22,
     "metadata": {},
     "output_type": "execute_result"
    }
   ],
   "source": [
    "np.eye(4)"
   ]
  },
  {
   "cell_type": "code",
   "execution_count": null,
   "id": "bf2ed25f",
   "metadata": {},
   "outputs": [
    {
     "name": "stdout",
     "output_type": "stream",
     "text": [
      "[1.         1.41421356 1.73205081 2.         2.23606798 2.44948974\n",
      " 2.64575131 2.82842712 3.        ]\n",
      "2.581988897471611\n",
      "5.0\n",
      "45\n",
      "1\n",
      "9\n",
      "6.666666666666667\n",
      "8\n",
      "0\n",
      "5.0\n",
      "[0.         0.69314718 1.09861229 1.38629436 1.60943791 1.79175947\n",
      " 1.94591015 2.07944154 2.19722458]\n",
      "[2.71828183e+00 7.38905610e+00 2.00855369e+01 5.45981500e+01\n",
      " 1.48413159e+02 4.03428793e+02 1.09663316e+03 2.98095799e+03\n",
      " 8.10308393e+03]\n",
      "[ 0.84147098  0.90929743  0.14112001 -0.7568025  -0.95892427 -0.2794155\n",
      "  0.6569866   0.98935825  0.41211849]\n",
      "[ 0.54030231 -0.41614684 -0.9899925  -0.65364362  0.28366219  0.96017029\n",
      "  0.75390225 -0.14550003 -0.91113026]\n",
      "[ 1.55740772 -2.18503986 -0.14254654  1.15782128 -3.38051501 -0.29100619\n",
      "  0.87144798 -6.79971146 -0.45231566]\n",
      "[1 2 3 4 5 6 7 8 9]\n",
      "[1 2 3 4 5 6 7 8 9]\n",
      "[1 2 3 4 5 6 7 8 9]\n",
      "[1 2 3 4 5 6 7 8 9]\n",
      "[1 2 3 4 5 6 7 8 9]\n",
      "[9 8 7 6 5 4 3 2 1]\n",
      "[1 2 3 4 5 6 7 8 9 1 2 3 4 5 6 7 8 9]\n",
      "[[1 2 3 4 5 6 7 8 9]\n",
      " [1 2 3 4 5 6 7 8 9]]\n",
      "[1 2 3 4 5 6 7 8 9 1 2 3 4 5 6 7 8 9]\n",
      "[array([1, 2, 3]), array([4, 5, 6]), array([7, 8, 9])]\n",
      "[1 2 3 4 5 6 7 8 9]\n",
      "(array([5, 6, 7, 8]),)\n"
     ]
    }
   ],
   "source": [
    "arr = np.array([1,2,3,4,5,6,7,8,9])\n",
    "print(np.sqrt(arr))\n",
    "print(np.std(arr))\n",
    "print(np.mean(arr))\n",
    "print(np.sum(arr))\n",
    "print(np.min(arr))\n",
    "print(np.max(arr))\n",
    "print(np.var(arr))\n",
    "print(np.argmax(arr))\n",
    "print(np.argmin(arr))\n",
    "print(np.percentile(arr,50))\n",
    "print(np.log(arr))\n",
    "print(np.exp(arr))\n",
    "print(np.sin(arr))\n",
    "print(np.cos(arr))\n",
    "print(np.tan(arr))\n"
   ]
  },
  {
   "cell_type": "code",
   "execution_count": null,
   "id": "2f3e9218",
   "metadata": {},
   "outputs": [
    {
     "name": "stdout",
     "output_type": "stream",
     "text": [
      "[1 2 3 4 5 6 7 8 9]\n",
      "[1 2 3 4 5 6 7 8 9]\n",
      "[1 2 3 4 5 6 7 8 9]\n",
      "[1 2 3 4 5 6 7 8 9]\n",
      "[1 2 3 4 5 6 7 8 9]\n",
      "[9 8 7 6 5 4 3 2 1]\n",
      "[[1 2 3 4 5 6 7 8 9]\n",
      " [1 2 3 4 5 6 7 8 9]]\n",
      "[1 2 3 4 5 6 7 8 9 1 2 3 4 5 6 7 8 9]\n",
      "[array([1, 2, 3]), array([4, 5, 6]), array([7, 8, 9])]\n",
      "[1 2 3 4 5 6 7 8 9]\n",
      "(array([5, 6, 7, 8]),)\n"
     ]
    }
   ],
   "source": [
    "print(np.round(arr))\n",
    "print(np.floor(arr))\n",
    "print(np.ceil(arr))\n",
    "print(np.unique(arr))\n",
    "print(np.sort(arr))\n",
    "print(np.flip(arr))\n",
    "print(np.concatenate((arr,arr)))\n",
    "print(np.vstack((arr,arr)))\n",
    "print(np.hstack((arr,arr)))\n",
    "print(np.split(arr,3))\n",
    "print(np.copy(arr))\n",
    "print(np.where(arr>5))"
   ]
  },
  {
   "cell_type": "code",
   "execution_count": 37,
   "id": "f0d7a040",
   "metadata": {},
   "outputs": [
    {
     "name": "stdout",
     "output_type": "stream",
     "text": [
      "[[ 1.  2.  3.]\n",
      " [ 4.  5.  7.]\n",
      " [70.  9.  9.]]\n",
      "[[ 9.   8.6 70.5]\n",
      " [ 6.6  5.2  4.2]\n",
      " [ 3.   2.   1. ]]\n"
     ]
    }
   ],
   "source": [
    "arr = np.array([[1,2,3],[4.2,5.2,6.6],[70.5,8.6,9]])\n",
    "print(np.round(arr))\n",
    "print(np.flip(arr))"
   ]
  },
  {
   "cell_type": "code",
   "execution_count": 42,
   "id": "4f297a61",
   "metadata": {},
   "outputs": [
    {
     "name": "stdout",
     "output_type": "stream",
     "text": [
      "[ 1  2  3  4  5  6  7  9 43]\n",
      "[1 1 2 9 1 1 1 1 1]\n"
     ]
    }
   ],
   "source": [
    "arr = np.array([1,2,3,4,5,6,7,4,4,4,4,4,4,4,4,43,3,9])\n",
    "uni,count=np.unique(arr,return_counts=True)\n",
    "print(uni)\n",
    "print(count)"
   ]
  },
  {
   "cell_type": "code",
   "execution_count": 44,
   "id": "fce06c28",
   "metadata": {},
   "outputs": [],
   "source": [
    "### Learing the hstack and vstack functions"
   ]
  },
  {
   "cell_type": "code",
   "execution_count": 45,
   "id": "5c1cddad",
   "metadata": {},
   "outputs": [
    {
     "name": "stdout",
     "output_type": "stream",
     "text": [
      "[1 2 3 4 5 6 7 7 8 1 2 3 4 5 6 7 7 8]\n"
     ]
    }
   ],
   "source": [
    "arr = np.array([1,2,3,4,5,6,7,7,8])\n",
    "print(np.hstack((arr,arr)))"
   ]
  },
  {
   "cell_type": "code",
   "execution_count": 46,
   "id": "e0d22426",
   "metadata": {},
   "outputs": [
    {
     "name": "stdout",
     "output_type": "stream",
     "text": [
      "[[1 2 3 4 5 6 7 7 8]\n",
      " [1 2 3 4 5 6 7 7 8]]\n"
     ]
    }
   ],
   "source": [
    "print(np.vstack((arr,arr)))"
   ]
  },
  {
   "cell_type": "code",
   "execution_count": 47,
   "id": "a848409a",
   "metadata": {},
   "outputs": [
    {
     "name": "stdout",
     "output_type": "stream",
     "text": [
      "[array([1, 2]), array([3, 4]), array([5, 6])]\n"
     ]
    }
   ],
   "source": [
    "arr = np.array([1, 2, 3, 4, 5, 6])\n",
    "print(np.split(arr, 3))\n",
    "# Output: [array([1, 2]), array([3, 4]), array([5, 6])]"
   ]
  },
  {
   "cell_type": "code",
   "execution_count": 48,
   "id": "877d5f88",
   "metadata": {},
   "outputs": [
    {
     "name": "stdout",
     "output_type": "stream",
     "text": [
      "[1 2 3 4 5 6]\n",
      "[99  2  3  4  5  6]\n"
     ]
    }
   ],
   "source": [
    "b = np.copy(arr)\n",
    "b[0] = 99\n",
    "print(arr)  # [1 3 5 7 9] → original unchanged\n",
    "print(b)    # [99 3 5 7 9]"
   ]
  },
  {
   "cell_type": "code",
   "execution_count": null,
   "id": "9ee0f0df",
   "metadata": {},
   "outputs": [],
   "source": []
  }
 ],
 "metadata": {
  "kernelspec": {
   "display_name": "base",
   "language": "python",
   "name": "python3"
  },
  "language_info": {
   "codemirror_mode": {
    "name": "ipython",
    "version": 3
   },
   "file_extension": ".py",
   "mimetype": "text/x-python",
   "name": "python",
   "nbconvert_exporter": "python",
   "pygments_lexer": "ipython3",
   "version": "3.13.5"
  }
 },
 "nbformat": 4,
 "nbformat_minor": 5
}
